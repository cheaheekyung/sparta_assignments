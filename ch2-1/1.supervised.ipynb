{
 "cells": [
  {
   "cell_type": "code",
   "execution_count": null,
   "metadata": {},
   "outputs": [],
   "source": [
    "import pandas as pd\n",
    "import numpy as np\n",
    "import matplotlib.pyplot as plt\n",
    "import seaborn as sns\n",
    "\n",
    "df = pd.read_csv('housingdata.csv')\n",
    "df.head()\n",
    "df.tail() #데이터셋 끝부분에도 데이터가 있는지 확인\n",
    "df.shape\n",
    "df.info() #문자열 데이터 없음 확인"
   ]
  },
  {
   "cell_type": "code",
   "execution_count": null,
   "metadata": {},
   "outputs": [],
   "source": [
    "#결측치 유무 확인 (총 6개의 열에 각 20개씩 결측치가 존재함)\n",
    "missing_data = df.isnull().sum()\n",
    "\n",
    "missing_data"
   ]
  },
  {
   "cell_type": "code",
   "execution_count": null,
   "metadata": {},
   "outputs": [],
   "source": [
    "\n",
    "#결측치 중앙값으로 대체하기\n",
    "from sklearn.impute import SimpleImputer\n",
    "imputer = SimpleImputer(strategy='median')\n",
    "df_imputed = imputer.fit_transform(df)\n",
    "df_imputed = pd.DataFrame(imputer.fit_transform(df), columns=df.columns)\n",
    "print(df_imputed)\n",
    "print(np.sum(np.isnan(df_imputed)))"
   ]
  },
  {
   "cell_type": "code",
   "execution_count": null,
   "metadata": {},
   "outputs": [],
   "source": [
    "\n",
    "#통계적 검정 확인(Shapiro-Wilk Test)\n",
    "from scipy.stats import shapiro\n",
    "stat, p_value = shapiro(df_imputed)\n",
    "print(\"Test Statistic:\", stat)\n",
    "print(\"p-value:\", p_value)\n",
    "\n",
    "\n",
    "#IQR 이상치 탐지\n",
    "Q1 = np.quantile(df_imputed, 0.25, axis=0)\n",
    "Q3 = np.quantile(df_imputed, 0.75, axis=0)\n",
    "IQR = Q3 - Q1\n",
    "\n",
    "#IQR 1.5배 이상치 처리\n",
    "outliers = ((df_imputed < (Q1 - 1.5 * IQR)) | (df_imputed > (Q3 + 1.5 * IQR))).any(axis=1)\n",
    "print(outliers.sum())\n",
    "\n",
    "#이상치 삭제\n",
    "df_cleaned = pd.DataFrame(df_imputed[~outliers])"
   ]
  },
  {
   "cell_type": "code",
   "execution_count": null,
   "metadata": {},
   "outputs": [],
   "source": [
    "df_cleaned.info()"
   ]
  },
  {
   "cell_type": "code",
   "execution_count": 8,
   "metadata": {},
   "outputs": [],
   "source": [
    "#독립변수(X), 종속변수(y) 분리\n",
    "X = df_cleaned.drop('MEDV' , axis=1)\n",
    "y = df_cleaned['MEDV']"
   ]
  },
  {
   "cell_type": "code",
   "execution_count": 9,
   "metadata": {},
   "outputs": [],
   "source": [
    "#train데이터와 test데이터 분리\n",
    "from sklearn.model_selection import train_test_split, cross_val_score\n",
    "X_train, X_test, y_train, y_test = train_test_split(X, y, test_size=0.2, random_state=42)"
   ]
  },
  {
   "cell_type": "code",
   "execution_count": 10,
   "metadata": {},
   "outputs": [],
   "source": [
    "#특성 스케일링\n",
    "from sklearn.preprocessing import StandardScaler\n",
    "scaler = StandardScaler()\n",
    "X_train_scaled = scaler.fit_transform(X_train)\n",
    "X_test_scaled = scaler.transform(X_test)"
   ]
  },
  {
   "cell_type": "code",
   "execution_count": 11,
   "metadata": {},
   "outputs": [],
   "source": [
    "#모델 학습\n",
    "from sklearn.linear_model import LinearRegression, Ridge, Lasso\n",
    "from sklearn.ensemble import RandomForestRegressor\n",
    "\n",
    "models = {\n",
    "    'Linear Regression': LinearRegression(),\n",
    "    'Ridge Regression': Ridge(alpha=1.0),\n",
    "    'Lasso Regression': Lasso(alpha=0.1),\n",
    "    'Random Forest': RandomForestRegressor(random_state=42, n_estimators=100)\n",
    "}\n",
    "\n",
    "results = {}\n",
    "\n",
    "for name, model in models.items():\n",
    "    # Training the model\n",
    "    model.fit(X_train, y_train)\n",
    "    \n",
    "    # Predicting\n",
    "    y_pred = model.predict(X_test)"
   ]
  },
  {
   "cell_type": "code",
   "execution_count": null,
   "metadata": {},
   "outputs": [],
   "source": [
    "from sklearn.pipeline import Pipeline\n",
    "from sklearn.metrics import mean_squared_error, r2_score\n",
    "# 모델 학습 및 평가 (Pipeline 활용)\n",
    "for name, model in models.items():\n",
    "    # Pipeline 생성\n",
    "    pipeline = Pipeline([\n",
    "        ('scaler', StandardScaler()),  # 데이터 스케일링\n",
    "        ('model', model)               # 모델 적용\n",
    "    ])\n",
    "    \n",
    "    # 교차 검증 실행\n",
    "    cv_scores = cross_val_score(pipeline, X_train, y_train, cv=5, scoring='r2')\n",
    "    \n",
    "    # 최종 학습 및 예측\n",
    "    pipeline.fit(X_train, y_train)\n",
    "    y_pred = pipeline.predict(X_test)\n",
    "    \n",
    "    # 평가 지표 계산\n",
    "    mse = mean_squared_error(y_test, y_pred)\n",
    "    rmse = np.sqrt(mse)\n",
    "    r2 = r2_score(y_test, y_pred)\n",
    "    \n",
    "    # 결과 저장\n",
    "    results[name] = {\n",
    "        'RMSE': rmse,\n",
    "        'R2': r2,\n",
    "        'CV_R2_mean': cv_scores.mean(),\n",
    "        'CV_R2_std': cv_scores.std()\n",
    "    }\n",
    "\n",
    "# 결과 출력\n",
    "for name, result in results.items():\n",
    "    print(f\"\\n{name} 결과:\")\n",
    "    print(f\"RMSE: {result['RMSE']:.2f}\")\n",
    "    print(f\"R2 Score: {result['R2']:.2f}\")\n",
    "    print(f\"Cross-validation R2: {result['CV_R2_mean']:.2f} (+/- {result['CV_R2_std'] * 2:.2f})\")"
   ]
  },
  {
   "cell_type": "code",
   "execution_count": null,
   "metadata": {},
   "outputs": [],
   "source": [
    "# 결과 시각화\n",
    "metrics = ['RMSE', 'R2', 'CV_R2_mean']\n",
    "fig, axes = plt.subplots(1, 3, figsize=(15, 5))\n",
    "\n",
    "for i, metric in enumerate(metrics):\n",
    "    values = [results[model][metric] for model in results.keys()]\n",
    "    axes[i].bar(results.keys(), values)\n",
    "    axes[i].set_title(metric)\n",
    "    axes[i].tick_params(axis='x', rotation=45)\n",
    "\n",
    "plt.tight_layout()\n",
    "plt.show()"
   ]
  }
 ],
 "metadata": {
  "kernelspec": {
   "display_name": "Python 3",
   "language": "python",
   "name": "python3"
  },
  "language_info": {
   "codemirror_mode": {
    "name": "ipython",
    "version": 3
   },
   "file_extension": ".py",
   "mimetype": "text/x-python",
   "name": "python",
   "nbconvert_exporter": "python",
   "pygments_lexer": "ipython3",
   "version": "3.12.8"
  }
 },
 "nbformat": 4,
 "nbformat_minor": 2
}
