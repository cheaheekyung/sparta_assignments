{
 "cells": [
  {
   "cell_type": "code",
   "execution_count": 1,
   "metadata": {},
   "outputs": [],
   "source": [
    "import pandas as pd\n",
    "import numpy as np\n",
    "import matplotlib.pyplot as plt\n",
    "import seaborn as sns\n",
    "from sklearn.preprocessing import StandardScaler\n",
    "from sklearn.cluster import KMeans, DBSCAN\n",
    "from sklearn.metrics import silhouette_score\n",
    "from scipy.cluster.hierarchy import dendrogram, linkage\n",
    "from sklearn.decomposition import PCA\n",
    "\n",
    "# 데이터 로드\n",
    "df = pd.read_csv('Mall_Customers.csv')"
   ]
  },
  {
   "cell_type": "code",
   "execution_count": null,
   "metadata": {},
   "outputs": [],
   "source": [
    "# 1. 데이터 탐색\n",
    "df.info()\n",
    "df.isnull().sum()\n",
    "df.describe()"
   ]
  },
  {
   "cell_type": "code",
   "execution_count": 3,
   "metadata": {},
   "outputs": [],
   "source": [
    "# 2. 데이터 전처리\n",
    "# 수치형 컬럼 선택\n",
    "numeric_columns = df.select_dtypes(include=['int64', 'float64']).columns\n"
   ]
  },
  {
   "cell_type": "code",
   "execution_count": 4,
   "metadata": {},
   "outputs": [],
   "source": [
    "# 스케일링\n",
    "scaler = StandardScaler()\n",
    "scaled_features = scaler.fit_transform(df[numeric_columns])\n",
    "scaled_data = pd.DataFrame(scaled_features, columns=numeric_columns)"
   ]
  },
  {
   "cell_type": "code",
   "execution_count": 5,
   "metadata": {},
   "outputs": [],
   "source": [
    "# 3. 최적의 클러스터 수 찾기 (엘보우 메소드 & 실루엣 분석)\n",
    "max_k = 10\n",
    "inertias = []\n",
    "silhouette_scores = []\n",
    "\n",
    "for k in range(2, max_k+1):\n",
    "    kmeans = KMeans(n_clusters=k, random_state=42)\n",
    "    kmeans.fit(scaled_data)\n",
    "    inertias.append(kmeans.inertia_)\n",
    "    silhouette_scores.append(silhouette_score(scaled_data, kmeans.labels_))"
   ]
  },
  {
   "cell_type": "code",
   "execution_count": null,
   "metadata": {},
   "outputs": [],
   "source": [
    "# 엘보우 & 실루엣 그래프\n",
    "plt.figure(figsize=(12, 5))\n",
    "\n",
    "plt.subplot(1, 2, 1)\n",
    "plt.plot(range(2, max_k+1), inertias, marker='o')\n",
    "plt.xlabel('클러스터 수')\n",
    "plt.ylabel('Inertia')\n",
    "plt.title('엘보우 메소드')\n",
    "\n",
    "plt.subplot(1, 2, 2)\n",
    "plt.plot(range(2, max_k+1), silhouette_scores, marker='o')\n",
    "plt.xlabel('클러스터 수')\n",
    "plt.ylabel('실루엣 점수')\n",
    "plt.title('실루엣 분석')\n",
    "\n",
    "plt.tight_layout()\n",
    "plt.show()"
   ]
  },
  {
   "cell_type": "code",
   "execution_count": 7,
   "metadata": {},
   "outputs": [],
   "source": [
    "# 4. K-means 클러스터링 (예시로 5개 클러스터 사용)\n",
    "kmeans = KMeans(n_clusters=5, random_state=42)\n",
    "kmeans_labels = kmeans.fit_predict(scaled_data)"
   ]
  },
  {
   "cell_type": "code",
   "execution_count": null,
   "metadata": {},
   "outputs": [],
   "source": [
    "# K-means 결과 시각화\n",
    "pca = PCA(n_components=2)\n",
    "data_2d = pca.fit_transform(scaled_data)\n",
    "\n",
    "plt.figure(figsize=(10, 6))\n",
    "scatter = plt.scatter(data_2d[:, 0], data_2d[:, 1], c=kmeans_labels, cmap='viridis')\n",
    "plt.colorbar(scatter)\n",
    "plt.title('K-means 클러스터링 결과')\n",
    "plt.xlabel('첫 번째 주성분')\n",
    "plt.ylabel('두 번째 주성분')\n",
    "plt.show()"
   ]
  },
  {
   "cell_type": "code",
   "execution_count": null,
   "metadata": {},
   "outputs": [],
   "source": [
    "# 5. 계층적 군집화\n",
    "linkage_matrix = linkage(scaled_data, method='ward')\n",
    "\n",
    "plt.figure(figsize=(10, 7))\n",
    "dendrogram(linkage_matrix)\n",
    "plt.title('계층적 군집화 덴드로그램')\n",
    "plt.xlabel('샘플 인덱스')\n",
    "plt.ylabel('거리')\n",
    "plt.show()"
   ]
  },
  {
   "cell_type": "code",
   "execution_count": 10,
   "metadata": {},
   "outputs": [],
   "source": [
    "# 6. DBSCAN\n",
    "dbscan = DBSCAN(eps=0.5, min_samples=5)\n",
    "dbscan_labels = dbscan.fit_predict(scaled_data)"
   ]
  },
  {
   "cell_type": "code",
   "execution_count": null,
   "metadata": {},
   "outputs": [],
   "source": [
    "# DBSCAN 결과 시각화\n",
    "plt.figure(figsize=(10, 6))\n",
    "scatter = plt.scatter(data_2d[:, 0], data_2d[:, 1], c=dbscan_labels, cmap='viridis')\n",
    "plt.colorbar(scatter)\n",
    "plt.title('DBSCAN 클러스터링 결과')\n",
    "plt.xlabel('첫 번째 주성분')\n",
    "plt.ylabel('두 번째 주성분')\n",
    "plt.show()\n"
   ]
  },
  {
   "cell_type": "code",
   "execution_count": null,
   "metadata": {},
   "outputs": [],
   "source": [
    "\n",
    "# 7. 클러스터링 결과 분석\n",
    "print(\"\\nK-means 클러스터별 샘플 수:\")\n",
    "print(pd.Series(kmeans_labels).value_counts().sort_index())\n",
    "\n",
    "print(\"\\nDBSCAN 클러스터별 샘플 수:\")\n",
    "print(pd.Series(dbscan_labels).value_counts().sort_index())"
   ]
  }
 ],
 "metadata": {
  "kernelspec": {
   "display_name": "Python 3",
   "language": "python",
   "name": "python3"
  },
  "language_info": {
   "codemirror_mode": {
    "name": "ipython",
    "version": 3
   },
   "file_extension": ".py",
   "mimetype": "text/x-python",
   "name": "python",
   "nbconvert_exporter": "python",
   "pygments_lexer": "ipython3",
   "version": "3.12.8"
  }
 },
 "nbformat": 4,
 "nbformat_minor": 2
}
